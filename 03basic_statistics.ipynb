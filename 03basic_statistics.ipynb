{
 "cells": [
  {
   "cell_type": "markdown",
   "id": "d4b88641",
   "metadata": {},
   "source": [
    "# 资产价格的基本统计分析\n",
    "* 计算投资收益率，包括算术收益率，几何收益率\n",
    "* 计算移动平均的均值，方差，偏度，峰度\n",
    "* 可视化的方式观察正态性，肥尾特征"
   ]
  },
  {
   "cell_type": "markdown",
   "id": "04d5926a",
   "metadata": {},
   "source": [
    "# QQ-Plot 绘制\n",
    "* https://www.statsmodels.org/stable/generated/statsmodels.graphics.gofplots.qqplot.html"
   ]
  },
  {
   "cell_type": "code",
   "execution_count": 1,
   "id": "cf48202d",
   "metadata": {},
   "outputs": [],
   "source": [
    "#导入所需的库\n",
    "import random\n",
    "import datetime\n",
    "import numpy as np\n",
    "import pandas as pd\n",
    "import scipy.stats as stats\n",
    "import statsmodels.api as sm\n",
    "from scipy.stats import probplot\n",
    "import seaborn as sns\n",
    "import matplotlib.pyplot as plt"
   ]
  },
  {
   "cell_type": "code",
   "execution_count": 10,
   "id": "c41b5b64",
   "metadata": {},
   "outputs": [],
   "source": [
    "#导入价格数据\n",
    "ETF_50 = pd.read_excel('50_300_dataset.xlsx', \n",
    "                       sheet_name = '50ETF',\n",
    "                       header = 0,index_col = 'Date',usecols = [0,1])\n",
    "ETFSH_300 = pd.read_excel('50_300_dataset.xlsx', \n",
    "                          sheet_name = '300ETFSH',\n",
    "                          header = 0,index_col = 'Date',usecols = [0,1])\n",
    "ETFSZ_300 = pd.read_excel('50_300_dataset.xlsx', \n",
    "                          sheet_name = '300ETFSZ',\n",
    "                          header = 0,index_col = 'Date',usecols = [0,1])"
   ]
  },
  {
   "cell_type": "code",
   "execution_count": 7,
   "id": "58886b7b",
   "metadata": {},
   "outputs": [],
   "source": [
    "data = ETF_50.sort_values(by = ['50ETF_Price'])"
   ]
  },
  {
   "cell_type": "code",
   "execution_count": 9,
   "id": "cd4a270f",
   "metadata": {},
   "outputs": [
    {
     "name": "stderr",
     "output_type": "stream",
     "text": [
      "/var/folders/_g/xwwb1f3d6dbc90p64q_54_xw0000gp/T/ipykernel_26786/3686836863.py:4: RuntimeWarning: divide by zero encountered in log10\n",
      "  y = np.log10(p)                            # log(1-F(x))\n"
     ]
    },
    {
     "ename": "InvalidIndexError",
     "evalue": "(slice(None, None, None), None)",
     "output_type": "error",
     "traceback": [
      "\u001b[0;31m---------------------------------------------------------------------------\u001b[0m",
      "\u001b[0;31mTypeError\u001b[0m                                 Traceback (most recent call last)",
      "File \u001b[0;32m~/opt/anaconda3/lib/python3.8/site-packages/pandas/core/indexes/base.py:3621\u001b[0m, in \u001b[0;36mIndex.get_loc\u001b[0;34m(self, key, method, tolerance)\u001b[0m\n\u001b[1;32m   3620\u001b[0m \u001b[38;5;28;01mtry\u001b[39;00m:\n\u001b[0;32m-> 3621\u001b[0m     \u001b[38;5;28;01mreturn\u001b[39;00m \u001b[38;5;28;43mself\u001b[39;49m\u001b[38;5;241;43m.\u001b[39;49m\u001b[43m_engine\u001b[49m\u001b[38;5;241;43m.\u001b[39;49m\u001b[43mget_loc\u001b[49m\u001b[43m(\u001b[49m\u001b[43mcasted_key\u001b[49m\u001b[43m)\u001b[49m\n\u001b[1;32m   3622\u001b[0m \u001b[38;5;28;01mexcept\u001b[39;00m \u001b[38;5;167;01mKeyError\u001b[39;00m \u001b[38;5;28;01mas\u001b[39;00m err:\n",
      "File \u001b[0;32m~/opt/anaconda3/lib/python3.8/site-packages/pandas/_libs/index.pyx:136\u001b[0m, in \u001b[0;36mpandas._libs.index.IndexEngine.get_loc\u001b[0;34m()\u001b[0m\n",
      "File \u001b[0;32m~/opt/anaconda3/lib/python3.8/site-packages/pandas/_libs/index.pyx:142\u001b[0m, in \u001b[0;36mpandas._libs.index.IndexEngine.get_loc\u001b[0;34m()\u001b[0m\n",
      "\u001b[0;31mTypeError\u001b[0m: '(slice(None, None, None), None)' is an invalid key",
      "\nDuring handling of the above exception, another exception occurred:\n",
      "\u001b[0;31mInvalidIndexError\u001b[0m                         Traceback (most recent call last)",
      "Input \u001b[0;32mIn [9]\u001b[0m, in \u001b[0;36m<cell line: 5>\u001b[0;34m()\u001b[0m\n\u001b[1;32m      3\u001b[0m x \u001b[38;5;241m=\u001b[39m np\u001b[38;5;241m.\u001b[39mlog10(data)                         \u001b[38;5;66;03m# logx\u001b[39;00m\n\u001b[1;32m      4\u001b[0m y \u001b[38;5;241m=\u001b[39m np\u001b[38;5;241m.\u001b[39mlog10(p)                            \u001b[38;5;66;03m# log(1-F(x))\u001b[39;00m\n\u001b[0;32m----> 5\u001b[0m \u001b[43mplt\u001b[49m\u001b[38;5;241;43m.\u001b[39;49m\u001b[43mplot\u001b[49m\u001b[43m(\u001b[49m\u001b[43mx\u001b[49m\u001b[43m,\u001b[49m\u001b[43my\u001b[49m\u001b[43m)\u001b[49m\n\u001b[1;32m      6\u001b[0m plt\u001b[38;5;241m.\u001b[39mshow()\n",
      "File \u001b[0;32m~/opt/anaconda3/lib/python3.8/site-packages/matplotlib/pyplot.py:2757\u001b[0m, in \u001b[0;36mplot\u001b[0;34m(scalex, scaley, data, *args, **kwargs)\u001b[0m\n\u001b[1;32m   2755\u001b[0m \u001b[38;5;129m@_copy_docstring_and_deprecators\u001b[39m(Axes\u001b[38;5;241m.\u001b[39mplot)\n\u001b[1;32m   2756\u001b[0m \u001b[38;5;28;01mdef\u001b[39;00m \u001b[38;5;21mplot\u001b[39m(\u001b[38;5;241m*\u001b[39margs, scalex\u001b[38;5;241m=\u001b[39m\u001b[38;5;28;01mTrue\u001b[39;00m, scaley\u001b[38;5;241m=\u001b[39m\u001b[38;5;28;01mTrue\u001b[39;00m, data\u001b[38;5;241m=\u001b[39m\u001b[38;5;28;01mNone\u001b[39;00m, \u001b[38;5;241m*\u001b[39m\u001b[38;5;241m*\u001b[39mkwargs):\n\u001b[0;32m-> 2757\u001b[0m     \u001b[38;5;28;01mreturn\u001b[39;00m \u001b[43mgca\u001b[49m\u001b[43m(\u001b[49m\u001b[43m)\u001b[49m\u001b[38;5;241;43m.\u001b[39;49m\u001b[43mplot\u001b[49m\u001b[43m(\u001b[49m\n\u001b[1;32m   2758\u001b[0m \u001b[43m        \u001b[49m\u001b[38;5;241;43m*\u001b[39;49m\u001b[43margs\u001b[49m\u001b[43m,\u001b[49m\u001b[43m \u001b[49m\u001b[43mscalex\u001b[49m\u001b[38;5;241;43m=\u001b[39;49m\u001b[43mscalex\u001b[49m\u001b[43m,\u001b[49m\u001b[43m \u001b[49m\u001b[43mscaley\u001b[49m\u001b[38;5;241;43m=\u001b[39;49m\u001b[43mscaley\u001b[49m\u001b[43m,\u001b[49m\n\u001b[1;32m   2759\u001b[0m \u001b[43m        \u001b[49m\u001b[38;5;241;43m*\u001b[39;49m\u001b[38;5;241;43m*\u001b[39;49m\u001b[43m(\u001b[49m\u001b[43m{\u001b[49m\u001b[38;5;124;43m\"\u001b[39;49m\u001b[38;5;124;43mdata\u001b[39;49m\u001b[38;5;124;43m\"\u001b[39;49m\u001b[43m:\u001b[49m\u001b[43m \u001b[49m\u001b[43mdata\u001b[49m\u001b[43m}\u001b[49m\u001b[43m \u001b[49m\u001b[38;5;28;43;01mif\u001b[39;49;00m\u001b[43m \u001b[49m\u001b[43mdata\u001b[49m\u001b[43m \u001b[49m\u001b[38;5;129;43;01mis\u001b[39;49;00m\u001b[43m \u001b[49m\u001b[38;5;129;43;01mnot\u001b[39;49;00m\u001b[43m \u001b[49m\u001b[38;5;28;43;01mNone\u001b[39;49;00m\u001b[43m \u001b[49m\u001b[38;5;28;43;01melse\u001b[39;49;00m\u001b[43m \u001b[49m\u001b[43m{\u001b[49m\u001b[43m}\u001b[49m\u001b[43m)\u001b[49m\u001b[43m,\u001b[49m\u001b[43m \u001b[49m\u001b[38;5;241;43m*\u001b[39;49m\u001b[38;5;241;43m*\u001b[39;49m\u001b[43mkwargs\u001b[49m\u001b[43m)\u001b[49m\n",
      "File \u001b[0;32m~/opt/anaconda3/lib/python3.8/site-packages/matplotlib/axes/_axes.py:1632\u001b[0m, in \u001b[0;36mAxes.plot\u001b[0;34m(self, scalex, scaley, data, *args, **kwargs)\u001b[0m\n\u001b[1;32m   1390\u001b[0m \u001b[38;5;124;03m\"\"\"\u001b[39;00m\n\u001b[1;32m   1391\u001b[0m \u001b[38;5;124;03mPlot y versus x as lines and/or markers.\u001b[39;00m\n\u001b[1;32m   1392\u001b[0m \n\u001b[0;32m   (...)\u001b[0m\n\u001b[1;32m   1629\u001b[0m \u001b[38;5;124;03m(``'green'``) or hex strings (``'#008000'``).\u001b[39;00m\n\u001b[1;32m   1630\u001b[0m \u001b[38;5;124;03m\"\"\"\u001b[39;00m\n\u001b[1;32m   1631\u001b[0m kwargs \u001b[38;5;241m=\u001b[39m cbook\u001b[38;5;241m.\u001b[39mnormalize_kwargs(kwargs, mlines\u001b[38;5;241m.\u001b[39mLine2D)\n\u001b[0;32m-> 1632\u001b[0m lines \u001b[38;5;241m=\u001b[39m [\u001b[38;5;241m*\u001b[39m\u001b[38;5;28mself\u001b[39m\u001b[38;5;241m.\u001b[39m_get_lines(\u001b[38;5;241m*\u001b[39margs, data\u001b[38;5;241m=\u001b[39mdata, \u001b[38;5;241m*\u001b[39m\u001b[38;5;241m*\u001b[39mkwargs)]\n\u001b[1;32m   1633\u001b[0m \u001b[38;5;28;01mfor\u001b[39;00m line \u001b[38;5;129;01min\u001b[39;00m lines:\n\u001b[1;32m   1634\u001b[0m     \u001b[38;5;28mself\u001b[39m\u001b[38;5;241m.\u001b[39madd_line(line)\n",
      "File \u001b[0;32m~/opt/anaconda3/lib/python3.8/site-packages/matplotlib/axes/_base.py:312\u001b[0m, in \u001b[0;36m_process_plot_var_args.__call__\u001b[0;34m(self, data, *args, **kwargs)\u001b[0m\n\u001b[1;32m    310\u001b[0m     this \u001b[38;5;241m+\u001b[39m\u001b[38;5;241m=\u001b[39m args[\u001b[38;5;241m0\u001b[39m],\n\u001b[1;32m    311\u001b[0m     args \u001b[38;5;241m=\u001b[39m args[\u001b[38;5;241m1\u001b[39m:]\n\u001b[0;32m--> 312\u001b[0m \u001b[38;5;28;01myield from\u001b[39;00m \u001b[38;5;28;43mself\u001b[39;49m\u001b[38;5;241;43m.\u001b[39;49m\u001b[43m_plot_args\u001b[49m\u001b[43m(\u001b[49m\u001b[43mthis\u001b[49m\u001b[43m,\u001b[49m\u001b[43m \u001b[49m\u001b[43mkwargs\u001b[49m\u001b[43m)\u001b[49m\n",
      "File \u001b[0;32m~/opt/anaconda3/lib/python3.8/site-packages/matplotlib/axes/_base.py:487\u001b[0m, in \u001b[0;36m_process_plot_var_args._plot_args\u001b[0;34m(self, tup, kwargs, return_kwargs)\u001b[0m\n\u001b[1;32m    484\u001b[0m         kw[prop_name] \u001b[38;5;241m=\u001b[39m val\n\u001b[1;32m    486\u001b[0m \u001b[38;5;28;01mif\u001b[39;00m \u001b[38;5;28mlen\u001b[39m(xy) \u001b[38;5;241m==\u001b[39m \u001b[38;5;241m2\u001b[39m:\n\u001b[0;32m--> 487\u001b[0m     x \u001b[38;5;241m=\u001b[39m \u001b[43m_check_1d\u001b[49m\u001b[43m(\u001b[49m\u001b[43mxy\u001b[49m\u001b[43m[\u001b[49m\u001b[38;5;241;43m0\u001b[39;49m\u001b[43m]\u001b[49m\u001b[43m)\u001b[49m\n\u001b[1;32m    488\u001b[0m     y \u001b[38;5;241m=\u001b[39m _check_1d(xy[\u001b[38;5;241m1\u001b[39m])\n\u001b[1;32m    489\u001b[0m \u001b[38;5;28;01melse\u001b[39;00m:\n",
      "File \u001b[0;32m~/opt/anaconda3/lib/python3.8/site-packages/matplotlib/cbook/__init__.py:1327\u001b[0m, in \u001b[0;36m_check_1d\u001b[0;34m(x)\u001b[0m\n\u001b[1;32m   1321\u001b[0m \u001b[38;5;28;01mwith\u001b[39;00m warnings\u001b[38;5;241m.\u001b[39mcatch_warnings(record\u001b[38;5;241m=\u001b[39m\u001b[38;5;28;01mTrue\u001b[39;00m) \u001b[38;5;28;01mas\u001b[39;00m w:\n\u001b[1;32m   1322\u001b[0m     warnings\u001b[38;5;241m.\u001b[39mfilterwarnings(\n\u001b[1;32m   1323\u001b[0m         \u001b[38;5;124m\"\u001b[39m\u001b[38;5;124malways\u001b[39m\u001b[38;5;124m\"\u001b[39m,\n\u001b[1;32m   1324\u001b[0m         category\u001b[38;5;241m=\u001b[39m\u001b[38;5;167;01mWarning\u001b[39;00m,\n\u001b[1;32m   1325\u001b[0m         message\u001b[38;5;241m=\u001b[39m\u001b[38;5;124m'\u001b[39m\u001b[38;5;124mSupport for multi-dimensional indexing\u001b[39m\u001b[38;5;124m'\u001b[39m)\n\u001b[0;32m-> 1327\u001b[0m     ndim \u001b[38;5;241m=\u001b[39m \u001b[43mx\u001b[49m\u001b[43m[\u001b[49m\u001b[43m:\u001b[49m\u001b[43m,\u001b[49m\u001b[43m \u001b[49m\u001b[38;5;28;43;01mNone\u001b[39;49;00m\u001b[43m]\u001b[49m\u001b[38;5;241m.\u001b[39mndim\n\u001b[1;32m   1328\u001b[0m     \u001b[38;5;66;03m# we have definitely hit a pandas index or series object\u001b[39;00m\n\u001b[1;32m   1329\u001b[0m     \u001b[38;5;66;03m# cast to a numpy array.\u001b[39;00m\n\u001b[1;32m   1330\u001b[0m     \u001b[38;5;28;01mif\u001b[39;00m \u001b[38;5;28mlen\u001b[39m(w) \u001b[38;5;241m>\u001b[39m \u001b[38;5;241m0\u001b[39m:\n",
      "File \u001b[0;32m~/opt/anaconda3/lib/python3.8/site-packages/pandas/core/frame.py:3505\u001b[0m, in \u001b[0;36mDataFrame.__getitem__\u001b[0;34m(self, key)\u001b[0m\n\u001b[1;32m   3503\u001b[0m \u001b[38;5;28;01mif\u001b[39;00m \u001b[38;5;28mself\u001b[39m\u001b[38;5;241m.\u001b[39mcolumns\u001b[38;5;241m.\u001b[39mnlevels \u001b[38;5;241m>\u001b[39m \u001b[38;5;241m1\u001b[39m:\n\u001b[1;32m   3504\u001b[0m     \u001b[38;5;28;01mreturn\u001b[39;00m \u001b[38;5;28mself\u001b[39m\u001b[38;5;241m.\u001b[39m_getitem_multilevel(key)\n\u001b[0;32m-> 3505\u001b[0m indexer \u001b[38;5;241m=\u001b[39m \u001b[38;5;28;43mself\u001b[39;49m\u001b[38;5;241;43m.\u001b[39;49m\u001b[43mcolumns\u001b[49m\u001b[38;5;241;43m.\u001b[39;49m\u001b[43mget_loc\u001b[49m\u001b[43m(\u001b[49m\u001b[43mkey\u001b[49m\u001b[43m)\u001b[49m\n\u001b[1;32m   3506\u001b[0m \u001b[38;5;28;01mif\u001b[39;00m is_integer(indexer):\n\u001b[1;32m   3507\u001b[0m     indexer \u001b[38;5;241m=\u001b[39m [indexer]\n",
      "File \u001b[0;32m~/opt/anaconda3/lib/python3.8/site-packages/pandas/core/indexes/base.py:3628\u001b[0m, in \u001b[0;36mIndex.get_loc\u001b[0;34m(self, key, method, tolerance)\u001b[0m\n\u001b[1;32m   3623\u001b[0m         \u001b[38;5;28;01mraise\u001b[39;00m \u001b[38;5;167;01mKeyError\u001b[39;00m(key) \u001b[38;5;28;01mfrom\u001b[39;00m \u001b[38;5;21;01merr\u001b[39;00m\n\u001b[1;32m   3624\u001b[0m     \u001b[38;5;28;01mexcept\u001b[39;00m \u001b[38;5;167;01mTypeError\u001b[39;00m:\n\u001b[1;32m   3625\u001b[0m         \u001b[38;5;66;03m# If we have a listlike key, _check_indexing_error will raise\u001b[39;00m\n\u001b[1;32m   3626\u001b[0m         \u001b[38;5;66;03m#  InvalidIndexError. Otherwise we fall through and re-raise\u001b[39;00m\n\u001b[1;32m   3627\u001b[0m         \u001b[38;5;66;03m#  the TypeError.\u001b[39;00m\n\u001b[0;32m-> 3628\u001b[0m         \u001b[38;5;28;43mself\u001b[39;49m\u001b[38;5;241;43m.\u001b[39;49m\u001b[43m_check_indexing_error\u001b[49m\u001b[43m(\u001b[49m\u001b[43mkey\u001b[49m\u001b[43m)\u001b[49m\n\u001b[1;32m   3629\u001b[0m         \u001b[38;5;28;01mraise\u001b[39;00m\n\u001b[1;32m   3631\u001b[0m \u001b[38;5;66;03m# GH#42269\u001b[39;00m\n",
      "File \u001b[0;32m~/opt/anaconda3/lib/python3.8/site-packages/pandas/core/indexes/base.py:5637\u001b[0m, in \u001b[0;36mIndex._check_indexing_error\u001b[0;34m(self, key)\u001b[0m\n\u001b[1;32m   5633\u001b[0m \u001b[38;5;28;01mdef\u001b[39;00m \u001b[38;5;21m_check_indexing_error\u001b[39m(\u001b[38;5;28mself\u001b[39m, key):\n\u001b[1;32m   5634\u001b[0m     \u001b[38;5;28;01mif\u001b[39;00m \u001b[38;5;129;01mnot\u001b[39;00m is_scalar(key):\n\u001b[1;32m   5635\u001b[0m         \u001b[38;5;66;03m# if key is not a scalar, directly raise an error (the code below\u001b[39;00m\n\u001b[1;32m   5636\u001b[0m         \u001b[38;5;66;03m# would convert to numpy arrays and raise later any way) - GH29926\u001b[39;00m\n\u001b[0;32m-> 5637\u001b[0m         \u001b[38;5;28;01mraise\u001b[39;00m InvalidIndexError(key)\n",
      "\u001b[0;31mInvalidIndexError\u001b[0m: (slice(None, None, None), None)"
     ]
    },
    {
     "data": {
      "image/png": "[encoded data removed]",
      "text/plain": [
       "<Figure size 432x288 with 1 Axes>"
      ]
     },
     "metadata": {
      "needs_background": "light"
     },
     "output_type": "display_data"
    }
   ],
   "source": [
    "p = 1. * np.arange(len(data)) / (len(data)-1) # 计算各点的累计概率 F(x)\n",
    "p = [1-i for i in p]                       # 计算概率的补 1-F(x)\n",
    "x = np.log10(data)                         # logx\n",
    "y = np.log10(p)                            # log(1-F(x))\n",
    "plt.plot(x,y)\n",
    "plt.show()"
   ]
  },
  {
   "cell_type": "code",
   "execution_count": 22,
   "id": "7ced77b1",
   "metadata": {},
   "outputs": [
    {
     "name": "stdout",
     "output_type": "stream",
     "text": [
      "            50ETF_Price\n",
      "Date                   \n",
      "2005-02-23         0.65\n",
      "2005-02-24         0.65\n",
      "2005-02-25         0.66\n",
      "2005-02-28         0.65\n",
      "2005-03-01         0.65\n",
      "            50ETF_Price\n",
      "Date                   \n",
      "2022-06-24         2.98\n",
      "2022-06-27         3.02\n",
      "2022-06-28         3.04\n",
      "2022-06-29         3.02\n",
      "2022-06-30         3.07\n"
     ]
    }
   ],
   "source": [
    "print(ETF_50.head())\n",
    "print(ETF_50.tail())"
   ]
  },
  {
   "cell_type": "code",
   "execution_count": 23,
   "id": "d6870dfb",
   "metadata": {},
   "outputs": [
    {
     "name": "stdout",
     "output_type": "stream",
     "text": [
      "            300ETFSH_Price\n",
      "Date                      \n",
      "2012-05-28            2.24\n",
      "2012-05-29            2.27\n",
      "2012-05-30            2.26\n",
      "2012-05-31            2.26\n",
      "2012-06-01            2.26\n",
      "            300ETFSH_Price\n",
      "Date                      \n",
      "2022-06-24            4.41\n",
      "2022-06-27            4.46\n",
      "2022-06-28            4.51\n",
      "2022-06-29            4.46\n",
      "2022-06-30            4.51\n"
     ]
    }
   ],
   "source": [
    "print(ETFSH_300.head())\n",
    "print(ETFSH_300.tail())"
   ]
  },
  {
   "cell_type": "code",
   "execution_count": 24,
   "id": "30d7f6f1",
   "metadata": {},
   "outputs": [
    {
     "name": "stdout",
     "output_type": "stream",
     "text": [
      "            300ETFSZ_Price\n",
      "Date                      \n",
      "2012-05-28            2.21\n",
      "2012-05-29            2.24\n",
      "2012-05-30            2.23\n",
      "2012-05-31            2.22\n",
      "2012-06-01            2.23\n",
      "            300ETFSZ_Price\n",
      "Date                      \n",
      "2022-06-24            4.41\n",
      "2022-06-27            4.46\n",
      "2022-06-28            4.51\n",
      "2022-06-29            4.46\n",
      "2022-06-30            4.52\n"
     ]
    }
   ],
   "source": [
    "print(ETFSZ_300.head())\n",
    "print(ETFSZ_300.tail())"
   ]
  },
  {
   "cell_type": "code",
   "execution_count": 170,
   "id": "037d15cf",
   "metadata": {},
   "outputs": [
    {
     "data": {
      "text/plain": [
       "17.35890410958904"
      ]
     },
     "execution_count": 170,
     "metadata": {},
     "output_type": "execute_result"
    }
   ],
   "source": [
    "#上证50ETF的投资期限\n",
    "T1 = datetime.datetime(2005,2,23)\n",
    "T2 = datetime.datetime(2022,6,30)\n",
    "ETF_50_Year_Delta = (T2-T1).days/365\n",
    "ETF_50_Year_Delta"
   ]
  },
  {
   "cell_type": "code",
   "execution_count": 100,
   "id": "ca8ab3ca",
   "metadata": {},
   "outputs": [
    {
     "data": {
      "text/plain": [
       "3.07"
      ]
     },
     "execution_count": 100,
     "metadata": {},
     "output_type": "execute_result"
    }
   ],
   "source": [
    "#根据索引提取样本数据\n",
    "ETF_50['50ETF_Price'].loc['2022-06-30']"
   ]
  },
  {
   "cell_type": "code",
   "execution_count": 174,
   "id": "db04b009",
   "metadata": {},
   "outputs": [
    {
     "name": "stdout",
     "output_type": "stream",
     "text": [
      "上证50ETF基金的总算术收益率是： 3.723\n",
      "上证50ETF基金的算术平均年化收益率是： 0.214\n"
     ]
    }
   ],
   "source": [
    "#上证50ETF的总算术收益率，算术平均年化收益率\n",
    "ETF_50_Return_Total_Ar = (ETF_50['50ETF_Price'][-1]-ETF_50['50ETF_Price'][0])/ETF_50['50ETF_Price'][0]\n",
    "print('上证50ETF基金的总算术收益率是：',round(ETF_50_Return_Total_Ar,3))\n",
    "ETF_50_Annual_Return_Total_Ar = ETF_50_Return_Total_Ar/ETF_50_Year_Delta\n",
    "print('上证50ETF基金的算术平均年化收益率是：',round(ETF_50_Annual_Return_Total_Ar,3))"
   ]
  },
  {
   "cell_type": "code",
   "execution_count": 175,
   "id": "aec8cb58",
   "metadata": {},
   "outputs": [
    {
     "name": "stdout",
     "output_type": "stream",
     "text": [
      "上证50ETF基金的总几何收益率是： 1.552\n",
      "上证50ETF基金的几何平均年化收益率是： 0.089\n"
     ]
    }
   ],
   "source": [
    "#上证50ETF的总几何收益率（对数收益率），算术平均年化收益率\n",
    "ETF_50_Return_Total_Gm = np.log(ETF_50['50ETF_Price'][-1]/ETF_50['50ETF_Price'][0])\n",
    "print('上证50ETF基金的总几何收益率是：',round(ETF_50_Return_Total_Gm,3))\n",
    "ETF_50_Annual_Return_Total_Gm = ETF_50_Return_Total_Gm/ETF_50_Year_Delta\n",
    "print('上证50ETF基金的几何平均年化收益率是：',round(ETF_50_Annual_Return_Total_Gm,3))"
   ]
  },
  {
   "cell_type": "code",
   "execution_count": 128,
   "id": "78a7d2ea",
   "metadata": {},
   "outputs": [
    {
     "data": {
      "text/plain": [
       "10.095890410958905"
      ]
     },
     "execution_count": 128,
     "metadata": {},
     "output_type": "execute_result"
    }
   ],
   "source": [
    "#上证&深证沪深300ETF投资时间期限\n",
    "T1 = datetime.datetime(2012,5,28)\n",
    "T2 = datetime.datetime(2022,6,30)\n",
    "ETF_300_Year_Delta = (T2-T1).days/365\n",
    "ETF_300_Year_Delta"
   ]
  },
  {
   "cell_type": "code",
   "execution_count": 184,
   "id": "2d20d53f",
   "metadata": {},
   "outputs": [
    {
     "name": "stdout",
     "output_type": "stream",
     "text": [
      "上证300ETF基金的总算术收益率是： 1.013\n",
      "上证300ETF基金的算术平均年化收益率是： 0.1\n"
     ]
    }
   ],
   "source": [
    "#上证300ETF的总算术收益率，算术平均年化收益率\n",
    "ETF_300SH_Return_Total_Ar = (ETFSH_300['300ETFSH_Price'][-1]-ETFSH_300['300ETFSH_Price'][0])/ETFSH_300['300ETFSH_Price'][0]\n",
    "print('上证300ETF基金的总算术收益率是：',round(ETF_300SH_Return_Total_Ar,3))\n",
    "ETF_300SH_Annual_Return_Total_Ar = ETF_300SH_Return_Total_Ar/ETF_300_Year_Delta\n",
    "print('上证300ETF基金的算术平均年化收益率是：',round(ETF_300SH_Annual_Return_Total_Ar,3))"
   ]
  },
  {
   "cell_type": "code",
   "execution_count": 186,
   "id": "2f0f7a14",
   "metadata": {},
   "outputs": [
    {
     "name": "stdout",
     "output_type": "stream",
     "text": [
      "上证300ETF基金的总几何收益率是： 0.7\n",
      "上证300ETF基金的几何平均年化收益率是： 0.069\n"
     ]
    }
   ],
   "source": [
    "#上证300ETF的总几何收益率（对数收益率），几何平均年化收益率\n",
    "ETF_300SH_Return_Total_Gm = np.log(ETFSH_300['300ETFSH_Price'][-1]/ETFSH_300['300ETFSH_Price'][0])\n",
    "print('上证300ETF基金的总几何收益率是：',round(ETF_300SH_Return_Total_Gm,3))\n",
    "ETF_300SH_Annual_Return_Total_Gm = ETF_300SH_Return_Total_Gm/ETF_300_Year_Delta\n",
    "print('上证300ETF基金的几何平均年化收益率是：',round(ETF_300SH_Annual_Return_Total_Gm,3))"
   ]
  },
  {
   "cell_type": "code",
   "execution_count": 187,
   "id": "796311c0",
   "metadata": {},
   "outputs": [
    {
     "name": "stdout",
     "output_type": "stream",
     "text": [
      "深证300ETF基金的总算术收益率是： 1.045\n",
      "深证300ETF基金的算术平均年化收益率是： 0.104\n"
     ]
    }
   ],
   "source": [
    "#深证300ETF的总算术收益率，算术平均年化收益率\n",
    "ETF_300SZ_Return_Total_Ar = (ETFSZ_300['300ETFSZ_Price'][-1]-ETFSZ_300['300ETFSZ_Price'][0])/ETFSZ_300['300ETFSZ_Price'][0]\n",
    "print('深证300ETF基金的总算术收益率是：',round(ETF_300SZ_Return_Total_Ar,3))\n",
    "ETF_300SZ_Annual_Return_Total_Ar = ETF_300SZ_Return_Total_Ar/ETF_300_Year_Delta\n",
    "print('深证300ETF基金的算术平均年化收益率是：',round(ETF_300SZ_Annual_Return_Total_Ar,3))"
   ]
  },
  {
   "cell_type": "code",
   "execution_count": 188,
   "id": "cfecf126",
   "metadata": {},
   "outputs": [
    {
     "name": "stdout",
     "output_type": "stream",
     "text": [
      "深证300ETF基金的总几何收益率是： 0.716\n",
      "深证300ETF基金的几何平均年化收益率是： 0.071\n"
     ]
    }
   ],
   "source": [
    "#深证300ETF的总几何收益率（对数收益率），几何平均年化收益率\n",
    "ETF_300SZ_Return_Total_Gm = np.log(ETFSZ_300['300ETFSZ_Price'][-1]/ETFSZ_300['300ETFSZ_Price'][0])\n",
    "print('深证300ETF基金的总几何收益率是：',round(ETF_300SZ_Return_Total_Gm,3))\n",
    "ETF_300SZ_Annual_Return_Total_Gm = ETF_300SZ_Return_Total_Gm/ETF_300_Year_Delta\n",
    "print('深证300ETF基金的几何平均年化收益率是：',round(ETF_300SZ_Annual_Return_Total_Gm,3))"
   ]
  },
  {
   "cell_type": "code",
   "execution_count": 65,
   "id": "adbd1fb6",
   "metadata": {},
   "outputs": [],
   "source": [
    "#计算对数化后的价格\n",
    "#ETF_50['Log_Price'] = np.log(ETF_50['50ETF_Price'])"
   ]
  },
  {
   "cell_type": "code",
   "execution_count": 11,
   "id": "c6a5b99e",
   "metadata": {},
   "outputs": [],
   "source": [
    "#计算上证50ETF的每日算术收益率，几何收益率\n",
    "ETF_50['Return_Ar'] = ETF_50['50ETF_Price'].pct_change()\n",
    "ETF_50['Return_Gm'] = np.log(ETF_50['50ETF_Price']/ETF_50['50ETF_Price'].shift(1))"
   ]
  },
  {
   "cell_type": "code",
   "execution_count": 13,
   "id": "eb9c0c8f",
   "metadata": {},
   "outputs": [
    {
     "data": {
      "text/plain": [
       "Date\n",
       "2005-02-23         NaN\n",
       "2005-02-24    0.000000\n",
       "2005-02-25    0.015267\n",
       "2005-02-28   -0.015267\n",
       "2005-03-01    0.000000\n",
       "Name: Return_Gm, dtype: float64"
      ]
     },
     "execution_count": 13,
     "metadata": {},
     "output_type": "execute_result"
    }
   ],
   "source": [
    "data = ETF_50['Return_Gm']\n",
    "data.head()"
   ]
  },
  {
   "cell_type": "code",
   "execution_count": null,
   "id": "c481916a",
   "metadata": {},
   "outputs": [],
   "source": []
  },
  {
   "cell_type": "code",
   "execution_count": 135,
   "id": "857e98d6",
   "metadata": {},
   "outputs": [
    {
     "data": {
      "text/html": [
       "<div>\n",
       "<style scoped>\n",
       "    .dataframe tbody tr th:only-of-type {\n",
       "        vertical-align: middle;\n",
       "    }\n",
       "\n",
       "    .dataframe tbody tr th {\n",
       "        vertical-align: top;\n",
       "    }\n",
       "\n",
       "    .dataframe thead th {\n",
       "        text-align: right;\n",
       "    }\n",
       "</style>\n",
       "<table border=\"1\" class=\"dataframe\">\n",
       "  <thead>\n",
       "    <tr style=\"text-align: right;\">\n",
       "      <th></th>\n",
       "      <th>50ETF_Price</th>\n",
       "      <th>Return_Ar</th>\n",
       "      <th>Return_Gm</th>\n",
       "    </tr>\n",
       "  </thead>\n",
       "  <tbody>\n",
       "    <tr>\n",
       "      <th>count</th>\n",
       "      <td>4220.000000</td>\n",
       "      <td>4219.000000</td>\n",
       "      <td>4219.000000</td>\n",
       "    </tr>\n",
       "    <tr>\n",
       "      <th>mean</th>\n",
       "      <td>2.014730</td>\n",
       "      <td>0.000516</td>\n",
       "      <td>0.000368</td>\n",
       "    </tr>\n",
       "    <tr>\n",
       "      <th>std</th>\n",
       "      <td>0.776295</td>\n",
       "      <td>0.017209</td>\n",
       "      <td>0.017218</td>\n",
       "    </tr>\n",
       "    <tr>\n",
       "      <th>min</th>\n",
       "      <td>0.530000</td>\n",
       "      <td>-0.102128</td>\n",
       "      <td>-0.107727</td>\n",
       "    </tr>\n",
       "    <tr>\n",
       "      <th>25%</th>\n",
       "      <td>1.460000</td>\n",
       "      <td>-0.007156</td>\n",
       "      <td>-0.007181</td>\n",
       "    </tr>\n",
       "    <tr>\n",
       "      <th>50%</th>\n",
       "      <td>1.950000</td>\n",
       "      <td>0.000000</td>\n",
       "      <td>0.000000</td>\n",
       "    </tr>\n",
       "    <tr>\n",
       "      <th>75%</th>\n",
       "      <td>2.630000</td>\n",
       "      <td>0.007812</td>\n",
       "      <td>0.007782</td>\n",
       "    </tr>\n",
       "    <tr>\n",
       "      <th>max</th>\n",
       "      <td>3.960000</td>\n",
       "      <td>0.103704</td>\n",
       "      <td>0.098672</td>\n",
       "    </tr>\n",
       "  </tbody>\n",
       "</table>\n",
       "</div>"
      ],
      "text/plain": [
       "       50ETF_Price    Return_Ar    Return_Gm\n",
       "count  4220.000000  4219.000000  4219.000000\n",
       "mean      2.014730     0.000516     0.000368\n",
       "std       0.776295     0.017209     0.017218\n",
       "min       0.530000    -0.102128    -0.107727\n",
       "25%       1.460000    -0.007156    -0.007181\n",
       "50%       1.950000     0.000000     0.000000\n",
       "75%       2.630000     0.007812     0.007782\n",
       "max       3.960000     0.103704     0.098672"
      ]
     },
     "execution_count": 135,
     "metadata": {},
     "output_type": "execute_result"
    }
   ],
   "source": [
    "ETF_50.describe()"
   ]
  },
  {
   "cell_type": "code",
   "execution_count": 177,
   "id": "0b90134a",
   "metadata": {},
   "outputs": [
    {
     "name": "stdout",
     "output_type": "stream",
     "text": [
      "ETF_50_Ar_mean: 0.0005161666817053249\n",
      "ETF_50_Ar_std: 0.017208906058819175\n",
      "ETF_50_Ar_var: 0.00029614644774126334\n",
      "ETF_50_Ar_skew: -0.006696454088686466\n",
      "ETF_50_Ar_kurt: 4.66457618295085\n"
     ]
    }
   ],
   "source": [
    "#上证50ETF的每日算术收益率各阶矩：均值，标准差，方差，偏度，峰度\n",
    "ETF_50_mean = ETF_50['Return_Ar'].mean()\n",
    "ETF_50_std = ETF_50['Return_Ar'].std()\n",
    "ETF_50_var = ETF_50['Return_Ar'].var()\n",
    "ETF_50_skew = ETF_50['Return_Ar'].skew()\n",
    "ETF_50_kurt= ETF_50['Return_Ar'].kurt()\n",
    "\n",
    "print(\"ETF_50_Ar_mean:\",ETF_50_mean)\n",
    "print(\"ETF_50_Ar_std:\",ETF_50_std)\n",
    "print(\"ETF_50_Ar_var:\",ETF_50_var)\n",
    "print(\"ETF_50_Ar_skew:\",ETF_50_skew)\n",
    "print(\"ETF_50_Ar_kurt:\",ETF_50_kurt)"
   ]
  },
  {
   "cell_type": "code",
   "execution_count": 178,
   "id": "f1a6f7d0",
   "metadata": {},
   "outputs": [
    {
     "name": "stdout",
     "output_type": "stream",
     "text": [
      "ETF_50_Gm_mean: 0.0003679688261890396\n",
      "ETF_50_Gm_std: 0.017218286661175752\n",
      "ETF_50_Gm_var: 0.0002964693955464228\n",
      "ETF_50_Gm_skew: -0.17890695350014119\n",
      "ETF_50_Gm_kurt: 4.724271829292398\n"
     ]
    }
   ],
   "source": [
    "#上证50ETF的每日几何收益率各阶矩：均值，标准差，方差，偏度，峰度\n",
    "ETF_50_mean = ETF_50['Return_Gm'].mean()\n",
    "ETF_50_std = ETF_50['Return_Gm'].std()\n",
    "ETF_50_var = ETF_50['Return_Gm'].var()\n",
    "ETF_50_skew = ETF_50['Return_Gm'].skew()\n",
    "ETF_50_kurt= ETF_50['Return_Gm'].kurt()\n",
    "\n",
    "print(\"ETF_50_Gm_mean:\",ETF_50_mean)\n",
    "print(\"ETF_50_Gm_std:\",ETF_50_std)\n",
    "print(\"ETF_50_Gm_var:\",ETF_50_var)\n",
    "print(\"ETF_50_Gm_skew:\",ETF_50_skew)\n",
    "print(\"ETF_50_Gm_kurt:\",ETF_50_kurt)"
   ]
  },
  {
   "cell_type": "code",
   "execution_count": 193,
   "id": "dc43d4f4",
   "metadata": {},
   "outputs": [],
   "source": [
    "#计算上证300ETF的每日算术收益率，几何收益率\n",
    "ETFSH_300['Return_Ar'] = ETFSH_300['300ETFSH_Price'].pct_change()\n",
    "ETFSH_300['Return_Gm'] = np.log(ETFSH_300['300ETFSH_Price']/ETFSH_300['300ETFSH_Price'].shift(1))"
   ]
  },
  {
   "cell_type": "code",
   "execution_count": 141,
   "id": "9f0ad2a8",
   "metadata": {},
   "outputs": [
    {
     "data": {
      "text/html": [
       "<div>\n",
       "<style scoped>\n",
       "    .dataframe tbody tr th:only-of-type {\n",
       "        vertical-align: middle;\n",
       "    }\n",
       "\n",
       "    .dataframe tbody tr th {\n",
       "        vertical-align: top;\n",
       "    }\n",
       "\n",
       "    .dataframe thead th {\n",
       "        text-align: right;\n",
       "    }\n",
       "</style>\n",
       "<table border=\"1\" class=\"dataframe\">\n",
       "  <thead>\n",
       "    <tr style=\"text-align: right;\">\n",
       "      <th></th>\n",
       "      <th>300ETFSH_Price</th>\n",
       "      <th>Return_Ar</th>\n",
       "      <th>Return_Gm</th>\n",
       "    </tr>\n",
       "  </thead>\n",
       "  <tbody>\n",
       "    <tr>\n",
       "      <th>count</th>\n",
       "      <td>2455.000000</td>\n",
       "      <td>2454.000000</td>\n",
       "      <td>2454.000000</td>\n",
       "    </tr>\n",
       "    <tr>\n",
       "      <th>mean</th>\n",
       "      <td>3.361882</td>\n",
       "      <td>0.000399</td>\n",
       "      <td>0.000285</td>\n",
       "    </tr>\n",
       "    <tr>\n",
       "      <th>std</th>\n",
       "      <td>0.962842</td>\n",
       "      <td>0.015035</td>\n",
       "      <td>0.015098</td>\n",
       "    </tr>\n",
       "    <tr>\n",
       "      <th>min</th>\n",
       "      <td>1.840000</td>\n",
       "      <td>-0.101227</td>\n",
       "      <td>-0.106725</td>\n",
       "    </tr>\n",
       "    <tr>\n",
       "      <th>25%</th>\n",
       "      <td>2.645000</td>\n",
       "      <td>-0.005938</td>\n",
       "      <td>-0.005955</td>\n",
       "    </tr>\n",
       "    <tr>\n",
       "      <th>50%</th>\n",
       "      <td>3.310000</td>\n",
       "      <td>0.000000</td>\n",
       "      <td>0.000000</td>\n",
       "    </tr>\n",
       "    <tr>\n",
       "      <th>75%</th>\n",
       "      <td>3.900000</td>\n",
       "      <td>0.006891</td>\n",
       "      <td>0.006867</td>\n",
       "    </tr>\n",
       "    <tr>\n",
       "      <th>max</th>\n",
       "      <td>5.720000</td>\n",
       "      <td>0.099359</td>\n",
       "      <td>0.094727</td>\n",
       "    </tr>\n",
       "  </tbody>\n",
       "</table>\n",
       "</div>"
      ],
      "text/plain": [
       "       300ETFSH_Price    Return_Ar    Return_Gm\n",
       "count     2455.000000  2454.000000  2454.000000\n",
       "mean         3.361882     0.000399     0.000285\n",
       "std          0.962842     0.015035     0.015098\n",
       "min          1.840000    -0.101227    -0.106725\n",
       "25%          2.645000    -0.005938    -0.005955\n",
       "50%          3.310000     0.000000     0.000000\n",
       "75%          3.900000     0.006891     0.006867\n",
       "max          5.720000     0.099359     0.094727"
      ]
     },
     "execution_count": 141,
     "metadata": {},
     "output_type": "execute_result"
    }
   ],
   "source": [
    "ETFSH_300.describe()"
   ]
  },
  {
   "cell_type": "code",
   "execution_count": 194,
   "id": "b38a9076",
   "metadata": {},
   "outputs": [
    {
     "name": "stdout",
     "output_type": "stream",
     "text": [
      "ETFSH_300_Ar_mean: 0.0003988116497432435\n",
      "ETFSH_300_Ar_std: 0.015034751655264314\n",
      "ETFSH_300_Ar_var: 0.00022604375733547305\n",
      "ETFSH_300_Ar_skew: -0.46827331364207236\n",
      "ETFSH_300_Ar_kurt: 7.848092633223086\n"
     ]
    }
   ],
   "source": [
    "#上证300ETF的每日算术收益率各阶矩：均值，标准差，方差，偏度，峰度\n",
    "ETFSH_300_mean = ETFSH_300['Return_Ar'].mean()\n",
    "ETFSH_300_std = ETFSH_300['Return_Ar'].std()\n",
    "ETFSH_300_var = ETFSH_300['Return_Ar'].var()\n",
    "ETFSH_300_skew = ETFSH_300['Return_Ar'].skew()\n",
    "ETFSH_300_kurt= ETFSH_300['Return_Ar'].kurt()\n",
    "\n",
    "print(\"ETFSH_300_Ar_mean:\",ETFSH_300_mean)\n",
    "print(\"ETFSH_300_Ar_std:\",ETFSH_300_std)\n",
    "print(\"ETFSH_300_Ar_var:\",ETFSH_300_var)\n",
    "print(\"ETFSH_300_Ar_skew:\",ETFSH_300_skew)\n",
    "print(\"ETFSH_300_Ar_kurt:\",ETFSH_300_kurt)"
   ]
  },
  {
   "cell_type": "code",
   "execution_count": 195,
   "id": "6c0c2e37",
   "metadata": {},
   "outputs": [
    {
     "name": "stdout",
     "output_type": "stream",
     "text": [
      "ETFSH_300_Gm_mean: 0.0002851757488376676\n",
      "ETFSH_300_Gm_std: 0.015098333699133186\n",
      "ETFSH_300_Gm_var: 0.0002279596804903808\n",
      "ETFSH_300_Gm_skew: -0.6893117830164269\n",
      "ETFSH_300_Gm_kurt: 8.375806342342218\n"
     ]
    }
   ],
   "source": [
    "#上证300ETF的每日几何收益率各阶矩：均值，标准差，方差，偏度，峰度\n",
    "ETFSH_300_mean = ETFSH_300['Return_Gm'].mean()\n",
    "ETFSH_300_std = ETFSH_300['Return_Gm'].std()\n",
    "ETFSH_300_var = ETFSH_300['Return_Gm'].var()\n",
    "ETFSH_300_skew = ETFSH_300['Return_Gm'].skew()\n",
    "ETFSH_300_kurt= ETFSH_300['Return_Gm'].kurt()\n",
    "\n",
    "print(\"ETFSH_300_Gm_mean:\",ETFSH_300_mean)\n",
    "print(\"ETFSH_300_Gm_std:\",ETFSH_300_std)\n",
    "print(\"ETFSH_300_Gm_var:\",ETFSH_300_var)\n",
    "print(\"ETFSH_300_Gm_skew:\",ETFSH_300_skew)\n",
    "print(\"ETFSH_300_Gm_kurt:\",ETFSH_300_kurt)"
   ]
  },
  {
   "cell_type": "code",
   "execution_count": 196,
   "id": "528e8260",
   "metadata": {},
   "outputs": [],
   "source": [
    "#计算深证300ETF的每日算术收益率，几何收益率\n",
    "ETFSZ_300['Return_Ar'] = ETFSZ_300['300ETFSZ_Price'].pct_change()\n",
    "ETFSZ_300['Return_Gm'] = np.log(ETFSZ_300['300ETFSZ_Price']/ETFSZ_300['300ETFSZ_Price'].shift(1))"
   ]
  },
  {
   "cell_type": "code",
   "execution_count": 145,
   "id": "9be085a7",
   "metadata": {},
   "outputs": [
    {
     "data": {
      "text/html": [
       "<div>\n",
       "<style scoped>\n",
       "    .dataframe tbody tr th:only-of-type {\n",
       "        vertical-align: middle;\n",
       "    }\n",
       "\n",
       "    .dataframe tbody tr th {\n",
       "        vertical-align: top;\n",
       "    }\n",
       "\n",
       "    .dataframe thead th {\n",
       "        text-align: right;\n",
       "    }\n",
       "</style>\n",
       "<table border=\"1\" class=\"dataframe\">\n",
       "  <thead>\n",
       "    <tr style=\"text-align: right;\">\n",
       "      <th></th>\n",
       "      <th>300ETFSZ_Price</th>\n",
       "      <th>Return_Ar</th>\n",
       "      <th>Return_Gm</th>\n",
       "    </tr>\n",
       "  </thead>\n",
       "  <tbody>\n",
       "    <tr>\n",
       "      <th>count</th>\n",
       "      <td>2455.000000</td>\n",
       "      <td>2454.000000</td>\n",
       "      <td>2454.000000</td>\n",
       "    </tr>\n",
       "    <tr>\n",
       "      <th>mean</th>\n",
       "      <td>3.343870</td>\n",
       "      <td>0.000406</td>\n",
       "      <td>0.000292</td>\n",
       "    </tr>\n",
       "    <tr>\n",
       "      <th>std</th>\n",
       "      <td>0.971333</td>\n",
       "      <td>0.015103</td>\n",
       "      <td>0.015176</td>\n",
       "    </tr>\n",
       "    <tr>\n",
       "      <th>min</th>\n",
       "      <td>1.810000</td>\n",
       "      <td>-0.101538</td>\n",
       "      <td>-0.107071</td>\n",
       "    </tr>\n",
       "    <tr>\n",
       "      <th>25%</th>\n",
       "      <td>2.630000</td>\n",
       "      <td>-0.005594</td>\n",
       "      <td>-0.005610</td>\n",
       "    </tr>\n",
       "    <tr>\n",
       "      <th>50%</th>\n",
       "      <td>3.290000</td>\n",
       "      <td>0.000000</td>\n",
       "      <td>0.000000</td>\n",
       "    </tr>\n",
       "    <tr>\n",
       "      <th>75%</th>\n",
       "      <td>3.880000</td>\n",
       "      <td>0.006467</td>\n",
       "      <td>0.006446</td>\n",
       "    </tr>\n",
       "    <tr>\n",
       "      <th>max</th>\n",
       "      <td>5.720000</td>\n",
       "      <td>0.100295</td>\n",
       "      <td>0.095578</td>\n",
       "    </tr>\n",
       "  </tbody>\n",
       "</table>\n",
       "</div>"
      ],
      "text/plain": [
       "       300ETFSZ_Price    Return_Ar    Return_Gm\n",
       "count     2455.000000  2454.000000  2454.000000\n",
       "mean         3.343870     0.000406     0.000292\n",
       "std          0.971333     0.015103     0.015176\n",
       "min          1.810000    -0.101538    -0.107071\n",
       "25%          2.630000    -0.005594    -0.005610\n",
       "50%          3.290000     0.000000     0.000000\n",
       "75%          3.880000     0.006467     0.006446\n",
       "max          5.720000     0.100295     0.095578"
      ]
     },
     "execution_count": 145,
     "metadata": {},
     "output_type": "execute_result"
    }
   ],
   "source": [
    "ETFSZ_300.describe()"
   ]
  },
  {
   "cell_type": "code",
   "execution_count": 197,
   "id": "bcf94db0",
   "metadata": {},
   "outputs": [
    {
     "name": "stdout",
     "output_type": "stream",
     "text": [
      "ETFSZ_300_Ar_mean: 0.00040633342910036997\n",
      "ETFSZ_300_Ar_std: 0.015103146898454448\n",
      "ETFSZ_300_Ar_var: 0.0002281050462362942\n",
      "ETFSZ_300_Ar_skew: -0.5262937937433655\n",
      "ETFSZ_300_Ar_kurt: 9.142937291721832\n"
     ]
    }
   ],
   "source": [
    "#上证300ETF的每日算术收益率各阶矩：均值，标准差，方差，偏度，峰度\n",
    "ETFSZ_300_mean = ETFSZ_300['Return_Ar'].mean()\n",
    "ETFSZ_300_std = ETFSZ_300['Return_Ar'].std()\n",
    "ETFSZ_300_var = ETFSZ_300['Return_Ar'].var()\n",
    "ETFSZ_300_skew = ETFSZ_300['Return_Ar'].skew()\n",
    "ETFSZ_300_kurt= ETFSZ_300['Return_Ar'].kurt()\n",
    "\n",
    "print(\"ETFSZ_300_Ar_mean:\",ETFSZ_300_mean)\n",
    "print(\"ETFSZ_300_Ar_std:\",ETFSZ_300_std)\n",
    "print(\"ETFSZ_300_Ar_var:\",ETFSZ_300_var)\n",
    "print(\"ETFSZ_300_Ar_skew:\",ETFSZ_300_skew)\n",
    "print(\"ETFSZ_300_Ar_kurt:\",ETFSZ_300_kurt)"
   ]
  },
  {
   "cell_type": "code",
   "execution_count": 198,
   "id": "6ab8ad54",
   "metadata": {},
   "outputs": [
    {
     "name": "stdout",
     "output_type": "stream",
     "text": [
      "ETFSZ_300_Gm_mean: 0.00029157272954950233\n",
      "ETFSZ_300_Gm_std: 0.0151760401470207\n",
      "ETFSZ_300_Gm_var: 0.00023031219454398404\n",
      "ETFSZ_300_Gm_skew: -0.7776508419544912\n",
      "ETFSZ_300_Gm_kurt: 9.82630835834541\n"
     ]
    }
   ],
   "source": [
    "#深证300ETF的每日几何收益率各阶矩：均值，标准差，方差，偏度，峰度\n",
    "ETFSZ_300_mean = ETFSZ_300['Return_Gm'].mean()\n",
    "ETFSZ_300_std = ETFSZ_300['Return_Gm'].std()\n",
    "ETFSZ_300_var = ETFSZ_300['Return_Gm'].var()\n",
    "ETFSZ_300_skew = ETFSZ_300['Return_Gm'].skew()\n",
    "ETFSZ_300_kurt= ETFSZ_300['Return_Gm'].kurt()\n",
    "\n",
    "print(\"ETFSZ_300_Gm_mean:\",ETFSZ_300_mean)\n",
    "print(\"ETFSZ_300_Gm_std:\",ETFSZ_300_std)\n",
    "print(\"ETFSZ_300_Gm_var:\",ETFSZ_300_var)\n",
    "print(\"ETFSZ_300_Gm_skew:\",ETFSZ_300_skew)\n",
    "print(\"ETFSZ_300_Gm_kurt:\",ETFSZ_300_kurt)"
   ]
  },
  {
   "cell_type": "code",
   "execution_count": 228,
   "id": "dba512cf",
   "metadata": {},
   "outputs": [
    {
     "data": {
      "text/plain": [
       "Text(0.5, 1.0, 'Probplot for 50ETF')"
      ]
     },
     "execution_count": 228,
     "metadata": {},
     "output_type": "execute_result"
    },
    {
     "data": {
      "image/png": "[encoded data removed]",
      "text/plain": [
       "<Figure size 288x288 with 1 Axes>"
      ]
     },
     "metadata": {
      "needs_background": "light"
     },
     "output_type": "display_data"
    }
   ],
   "source": [
    "#50ETF每日收益率概率分布图，不是QQ-plot，因为未进行Quantile处理。\n",
    "ETF_50 = ETF_50.dropna()#删除缺失值，否则红线不出来。\n",
    "fig,ax = plt.subplots(figsize=(4,4))\n",
    "stats.probplot(ETF_50['Return_Gm'],plot = ax)\n",
    "ax.set_title(\"Probplot for 50ETF\")"
   ]
  },
  {
   "cell_type": "code",
   "execution_count": 229,
   "id": "d25f00ad",
   "metadata": {},
   "outputs": [
    {
     "data": {
      "text/plain": [
       "Text(0.5, 1.0, 'Probplot for 300ETFSH')"
      ]
     },
     "execution_count": 229,
     "metadata": {},
     "output_type": "execute_result"
    },
    {
     "data": {
      "image/png": "[encoded data removed]",
      "text/plain": [
       "<Figure size 288x288 with 1 Axes>"
      ]
     },
     "metadata": {
      "needs_background": "light"
     },
     "output_type": "display_data"
    }
   ],
   "source": [
    "#上证300ETF每日收益率概率分布图，不是QQ-plot，因为未进行Quantile处理。\n",
    "ETFSH_300 = ETFSH_300.dropna()#删除缺失值，否则红线不出来。\n",
    "fig,ax = plt.subplots(figsize=(4,4))\n",
    "stats.probplot(ETFSH_300['Return_Gm'],plot = ax)\n",
    "ax.set_title(\"Probplot for 300ETFSH\")"
   ]
  },
  {
   "cell_type": "code",
   "execution_count": 230,
   "id": "8de9fa3d",
   "metadata": {},
   "outputs": [
    {
     "data": {
      "text/plain": [
       "Text(0.5, 1.0, 'Probplot for 300ETFSZ')"
      ]
     },
     "execution_count": 230,
     "metadata": {},
     "output_type": "execute_result"
    },
    {
     "data": {
      "image/png": "[encoded data removed]",
      "text/plain": [
       "<Figure size 288x288 with 1 Axes>"
      ]
     },
     "metadata": {
      "needs_background": "light"
     },
     "output_type": "display_data"
    }
   ],
   "source": [
    "#深证300ETF每日收益率概率分布图，不是QQ-plot，因为未进行Quantile处理。\n",
    "ETFSZ_300 = ETFSZ_300.dropna()#删除缺失值，否则红线不出来。\n",
    "fig,ax = plt.subplots(figsize=(4,4))\n",
    "stats.probplot(ETFSZ_300['Return_Gm'],plot = ax)\n",
    "ax.set_title(\"Probplot for 300ETFSZ\")"
   ]
  },
  {
   "cell_type": "code",
   "execution_count": 232,
   "id": "08bafce3",
   "metadata": {},
   "outputs": [
    {
     "data": {
      "image/png": "[encoded data removed]",
      "text/plain": [
       "<Figure size 432x288 with 1 Axes>"
      ]
     },
     "metadata": {
      "needs_background": "light"
     },
     "output_type": "display_data"
    }
   ],
   "source": [
    "#50ETF每日收益率概率的QQ-plot。\n",
    "sm.qqplot(ETF_50['Return_Gm'],stats.norm, fit=True, line='45')\n",
    "plt.title(\"Q-Q-plot for 50ETF\")\n",
    "plt.show()"
   ]
  },
  {
   "cell_type": "code",
   "execution_count": 233,
   "id": "8a816dae",
   "metadata": {},
   "outputs": [
    {
     "data": {
      "image/png": "[encoded data removed]",
      "text/plain": [
       "<Figure size 432x288 with 1 Axes>"
      ]
     },
     "metadata": {
      "needs_background": "light"
     },
     "output_type": "display_data"
    }
   ],
   "source": [
    "#上证300ETF每日收益率概率的QQ-plot。\n",
    "import statsmodels.api as sm\n",
    "sm.qqplot(ETFSH_300['Return_Gm'],stats.norm, fit=True, line='45')\n",
    "plt.title(\"Q-Q-plot for 300ETFSH\")\n",
    "plt.show()"
   ]
  },
  {
   "cell_type": "code",
   "execution_count": 234,
   "id": "e30fdd77",
   "metadata": {},
   "outputs": [
    {
     "data": {
      "image/png": "[encoded data removed]",
      "text/plain": [
       "<Figure size 432x288 with 1 Axes>"
      ]
     },
     "metadata": {
      "needs_background": "light"
     },
     "output_type": "display_data"
    }
   ],
   "source": [
    "#深证300ETF每日收益率概率的QQ-plot。\n",
    "sm.qqplot(ETFSZ_300['Return_Gm'],stats.norm, fit=True, line='45')\n",
    "plt.title(\"Q-Q-plot for 300ETFSZ\")\n",
    "plt.show()"
   ]
  },
  {
   "cell_type": "code",
   "execution_count": 207,
   "id": "c971f9e7",
   "metadata": {},
   "outputs": [],
   "source": [
    "#滚动计算上证50ETF月度收益率，假设每个月20个交易日\n",
    "ETF_50['Return_Monthly'] = ETF_50['Return_Gm'].rolling(window=20).sum()"
   ]
  },
  {
   "cell_type": "code",
   "execution_count": 208,
   "id": "b424100e",
   "metadata": {},
   "outputs": [
    {
     "name": "stdout",
     "output_type": "stream",
     "text": [
      "ETF_50_mean_Monthly: 0.007264057891195686\n",
      "ETF_50_std_Monthly: 0.07824985033116938\n",
      "ETF_50_var_Monthly: 0.006123039076850408\n",
      "ETF_50_skew_Monthly: -0.010977308331028801\n",
      "ETF_50_kurt_Monthly: 1.5247618476790739\n"
     ]
    }
   ],
   "source": [
    "#上证50ETF月度收益率各阶矩：均值，标准差，方差，偏度，峰度\n",
    "ETF_50_mean_Monthly = ETF_50['Return_Monthly'].mean()\n",
    "ETF_50_std_Monthly  = ETF_50['Return_Monthly'].std()\n",
    "ETF_50_var_Monthly  = ETF_50['Return_Monthly'].var()\n",
    "ETF_50_skew_Monthly  = ETF_50['Return_Monthly'].skew()\n",
    "ETF_50_kurt_Monthly = ETF_50['Return_Monthly'].kurt()\n",
    "\n",
    "print(\"ETF_50_mean_Monthly:\",ETF_50_mean_Monthly)\n",
    "print(\"ETF_50_std_Monthly:\",ETF_50_std_Monthly)\n",
    "print(\"ETF_50_var_Monthly:\",ETF_50_var_Monthly)\n",
    "print(\"ETF_50_skew_Monthly:\",ETF_50_skew_Monthly)\n",
    "print(\"ETF_50_kurt_Monthly:\",ETF_50_kurt_Monthly)"
   ]
  },
  {
   "cell_type": "code",
   "execution_count": 217,
   "id": "a8accdea",
   "metadata": {},
   "outputs": [
    {
     "data": {
      "text/plain": [
       "((array([-3.57573146, -3.33671686, -3.20479191, ...,  3.20479191,\n",
       "          3.33671686,  3.57573146]),\n",
       "  array([-0.35955541, -0.32874356, -0.31077779, ...,  0.3225509 ,\n",
       "          0.3345783 ,  0.33930644])),\n",
       " (0.07862351647439814, 0.007473716212598983, 0.990524339405377))"
      ]
     },
     "execution_count": 217,
     "metadata": {},
     "output_type": "execute_result"
    },
    {
     "data": {
      "image/png": "[encoded data removed]",
      "text/plain": [
       "<Figure size 288x288 with 1 Axes>"
      ]
     },
     "metadata": {
      "needs_background": "light"
     },
     "output_type": "display_data"
    }
   ],
   "source": [
    "#50ETF月度收益率概率分布图，不是QQ-plot，因为未进行Quantile处理。\n",
    "ETF_50 = ETF_50.dropna()#删除缺失值，否则红线不出来。\n",
    "fig,ax = plt.subplots(figsize=(4,4))\n",
    "stats.probplot(ETF_50['Return_Monthly'],plot = ax)"
   ]
  },
  {
   "cell_type": "code",
   "execution_count": 218,
   "id": "353722d5",
   "metadata": {},
   "outputs": [
    {
     "data": {
      "image/png": "[encoded data removed]",
      "text/plain": [
       "<Figure size 432x288 with 1 Axes>"
      ]
     },
     "metadata": {
      "needs_background": "light"
     },
     "output_type": "display_data"
    }
   ],
   "source": [
    "#50ETF月度收益率概率的QQ-plot。\n",
    "sm.qqplot(ETF_50['Return_Monthly'],stats.norm, fit=True, line='45')\n",
    "plt.show()"
   ]
  },
  {
   "cell_type": "code",
   "execution_count": 219,
   "id": "1a7274e9",
   "metadata": {},
   "outputs": [
    {
     "name": "stderr",
     "output_type": "stream",
     "text": [
      "/var/folders/_g/xwwb1f3d6dbc90p64q_54_xw0000gp/T/ipykernel_19649/2171984494.py:2: SettingWithCopyWarning: \n",
      "A value is trying to be set on a copy of a slice from a DataFrame.\n",
      "Try using .loc[row_indexer,col_indexer] = value instead\n",
      "\n",
      "See the caveats in the documentation: https://pandas.pydata.org/pandas-docs/stable/user_guide/indexing.html#returning-a-view-versus-a-copy\n",
      "  ETFSH_300['Return_Monthly'] = ETFSH_300['Return_Gm'].rolling(window=20).sum()\n"
     ]
    }
   ],
   "source": [
    "#滚动计算上证300ETF月度收益率，假设每个月20个交易日\n",
    "ETFSH_300['Return_Monthly'] = ETFSH_300['Return_Gm'].rolling(window=20).sum()"
   ]
  },
  {
   "cell_type": "code",
   "execution_count": 220,
   "id": "f76595d7",
   "metadata": {},
   "outputs": [
    {
     "name": "stdout",
     "output_type": "stream",
     "text": [
      "ETFSH_300_mean_Monthly: 0.005468202389189849\n",
      "ETFSH_300_std_Monthly: 0.06653255328698525\n",
      "ETFSH_300_var_Monthly: 0.004426580646885532\n",
      "ETFSH_300_skew_Monthly: -0.3205505757553427\n",
      "ETFSH_300_kurt_Monthly: 3.091497337662266\n"
     ]
    }
   ],
   "source": [
    "#上证300ETF月度收益率各阶矩：均值，标准差，方差，偏度，峰度\n",
    "ETFSH_300_mean_Monthly = ETFSH_300['Return_Monthly'].mean()\n",
    "ETFSH_300_std_Monthly  = ETFSH_300['Return_Monthly'].std()\n",
    "ETFSH_300_var_Monthly  = ETFSH_300['Return_Monthly'].var()\n",
    "ETFSH_300_skew_Monthly  = ETFSH_300['Return_Monthly'].skew()\n",
    "ETFSH_300_kurt_Monthly = ETFSH_300['Return_Monthly'].kurt()\n",
    "\n",
    "print(\"ETFSH_300_mean_Monthly:\",ETFSH_300_mean_Monthly)\n",
    "print(\"ETFSH_300_std_Monthly:\",ETFSH_300_std_Monthly)\n",
    "print(\"ETFSH_300_var_Monthly:\",ETFSH_300_var_Monthly)\n",
    "print(\"ETFSH_300_skew_Monthly:\",ETFSH_300_skew_Monthly)\n",
    "print(\"ETFSH_300_kurt_Monthly:\",ETFSH_300_kurt_Monthly)"
   ]
  },
  {
   "cell_type": "code",
   "execution_count": 221,
   "id": "816db965",
   "metadata": {},
   "outputs": [
    {
     "data": {
      "text/plain": [
       "((array([-3.44586292, -3.19844204, -3.06141229, ...,  3.06141229,\n",
       "          3.19844204,  3.44586292]),\n",
       "  array([-0.41820413, -0.32136494, -0.32107772, ...,  0.26826399,\n",
       "          0.27338826,  0.27670501])),\n",
       " (0.06520669829010262, 0.005468202389189837, 0.979031059528745))"
      ]
     },
     "execution_count": 221,
     "metadata": {},
     "output_type": "execute_result"
    },
    {
     "data": {
      "image/png": "[encoded data removed]",
      "text/plain": [
       "<Figure size 288x288 with 1 Axes>"
      ]
     },
     "metadata": {
      "needs_background": "light"
     },
     "output_type": "display_data"
    }
   ],
   "source": [
    "#上证300ETF月度收益率概率分布图，不是QQ-plot，因为未进行Quantile处理。\n",
    "ETFSH_300 = ETFSH_300.dropna()#删除缺失值，否则红线不出来。\n",
    "fig,ax = plt.subplots(figsize=(4,4))\n",
    "stats.probplot(ETFSH_300['Return_Monthly'],plot = ax)"
   ]
  },
  {
   "cell_type": "code",
   "execution_count": 222,
   "id": "100e3249",
   "metadata": {},
   "outputs": [
    {
     "data": {
      "image/png": "[encoded data removed]",
      "text/plain": [
       "<Figure size 432x288 with 1 Axes>"
      ]
     },
     "metadata": {
      "needs_background": "light"
     },
     "output_type": "display_data"
    }
   ],
   "source": [
    "#上证300ETF月度收益率概率的QQ-plot。\n",
    "sm.qqplot(ETFSH_300['Return_Monthly'],stats.norm, fit=True, line='45')\n",
    "plt.show()"
   ]
  },
  {
   "cell_type": "code",
   "execution_count": 223,
   "id": "fde052b5",
   "metadata": {},
   "outputs": [],
   "source": [
    "#滚动计算深证300ETF月度收益率，假设每个月20个交易日\n",
    "ETFSZ_300['Return_Monthly'] = ETFSZ_300['Return_Gm'].rolling(window=20).sum()"
   ]
  },
  {
   "cell_type": "code",
   "execution_count": 224,
   "id": "141af8b5",
   "metadata": {},
   "outputs": [
    {
     "name": "stdout",
     "output_type": "stream",
     "text": [
      "ETFSZ_300_mean_Monthly: 0.005598284821654645\n",
      "ETFSZ_300_std_Monthly: 0.06684802795939407\n",
      "ETFSZ_300_var_Monthly: 0.004468658842059931\n",
      "ETFSZ_300_skew_Monthly: -0.32515673840684606\n",
      "ETFSZ_300_kurt_Monthly: 3.11149983508735\n"
     ]
    }
   ],
   "source": [
    "#深证300ETF月度收益率各阶矩：均值，标准差，方差，偏度，峰度\n",
    "ETFSZ_300_mean_Monthly = ETFSZ_300['Return_Monthly'].mean()\n",
    "ETFSZ_300_std_Monthly  = ETFSZ_300['Return_Monthly'].std()\n",
    "ETFSZ_300_var_Monthly  = ETFSZ_300['Return_Monthly'].var()\n",
    "ETFSZ_300_skew_Monthly  = ETFSZ_300['Return_Monthly'].skew()\n",
    "ETFSZ_300_kurt_Monthly = ETFSZ_300['Return_Monthly'].kurt()\n",
    "\n",
    "print(\"ETFSZ_300_mean_Monthly:\",ETFSZ_300_mean_Monthly)\n",
    "print(\"ETFSZ_300_std_Monthly:\",ETFSZ_300_std_Monthly)\n",
    "print(\"ETFSZ_300_var_Monthly:\",ETFSZ_300_var_Monthly)\n",
    "print(\"ETFSZ_300_skew_Monthly:\",ETFSZ_300_skew_Monthly)\n",
    "print(\"ETFSZ_300_kurt_Monthly:\",ETFSZ_300_kurt_Monthly)"
   ]
  },
  {
   "cell_type": "code",
   "execution_count": 225,
   "id": "3c628272",
   "metadata": {},
   "outputs": [
    {
     "data": {
      "text/plain": [
       "((array([-3.44586292, -3.19844204, -3.06141229, ...,  3.06141229,\n",
       "          3.19844204,  3.44586292]),\n",
       "  array([-0.42575411, -0.32673259, -0.32558436, ...,  0.27029033,\n",
       "          0.27776464,  0.28216025])),\n",
       " (0.06551744912801276, 0.005598284821654629, 0.9790544148550432))"
      ]
     },
     "execution_count": 225,
     "metadata": {},
     "output_type": "execute_result"
    },
    {
     "data": {
      "image/png": "[encoded data removed]",
      "text/plain": [
       "<Figure size 288x288 with 1 Axes>"
      ]
     },
     "metadata": {
      "needs_background": "light"
     },
     "output_type": "display_data"
    }
   ],
   "source": [
    "#深证300ETF月度收益率概率分布图，不是QQ-plot，因为未进行Quantile处理。\n",
    "ETFSZ_300 = ETFSZ_300.dropna()#删除缺失值，否则红线不出来。\n",
    "fig,ax = plt.subplots(figsize=(4,4))\n",
    "stats.probplot(ETFSZ_300['Return_Monthly'],plot = ax)"
   ]
  },
  {
   "cell_type": "code",
   "execution_count": 226,
   "id": "986f0065",
   "metadata": {},
   "outputs": [
    {
     "data": {
      "image/png": "[encoded data removed]",
      "text/plain": [
       "<Figure size 432x288 with 1 Axes>"
      ]
     },
     "metadata": {
      "needs_background": "light"
     },
     "output_type": "display_data"
    }
   ],
   "source": [
    "#深证300ETF月度收益率概率的QQ-plot。\n",
    "sm.qqplot(ETFSZ_300['Return_Monthly'],stats.norm, fit=True, line='45')\n",
    "plt.show()"
   ]
  },
  {
   "cell_type": "markdown",
   "id": "270901ec",
   "metadata": {},
   "source": [
    "# 以下为备用代码"
   ]
  },
  {
   "cell_type": "code",
   "execution_count": null,
   "id": "91fe3e1a",
   "metadata": {},
   "outputs": [],
   "source": []
  },
  {
   "cell_type": "code",
   "execution_count": null,
   "id": "55a5fb1c",
   "metadata": {},
   "outputs": [],
   "source": []
  },
  {
   "cell_type": "code",
   "execution_count": null,
   "id": "8424ac34",
   "metadata": {},
   "outputs": [],
   "source": []
  },
  {
   "cell_type": "code",
   "execution_count": null,
   "id": "a0a88374",
   "metadata": {},
   "outputs": [],
   "source": []
  },
  {
   "cell_type": "code",
   "execution_count": null,
   "id": "c53472ca",
   "metadata": {},
   "outputs": [],
   "source": []
  },
  {
   "cell_type": "code",
   "execution_count": 151,
   "id": "cb9327ed",
   "metadata": {},
   "outputs": [
    {
     "data": {
      "text/plain": [
       "<AxesSubplot:xlabel='Date'>"
      ]
     },
     "execution_count": 151,
     "metadata": {},
     "output_type": "execute_result"
    },
    {
     "data": {
      "image/png": "[encoded data removed]",
      "text/plain": [
       "<Figure size 432x288 with 1 Axes>"
      ]
     },
     "metadata": {
      "needs_background": "light"
     },
     "output_type": "display_data"
    }
   ],
   "source": [
    "#价格行情折线图\n",
    "ETFSZ_300[['300ETFSZ_Price']].plot()"
   ]
  },
  {
   "cell_type": "code",
   "execution_count": 313,
   "id": "839f8146",
   "metadata": {},
   "outputs": [
    {
     "data": {
      "text/plain": [
       "<AxesSubplot:xlabel='Date'>"
      ]
     },
     "execution_count": 313,
     "metadata": {},
     "output_type": "execute_result"
    },
    {
     "data": {
      "image/png": "[encoded data removed]",
      "text/plain": [
       "<Figure size 432x288 with 1 Axes>"
      ]
     },
     "metadata": {
      "needs_background": "light"
     },
     "output_type": "display_data"
    }
   ],
   "source": [
    "ETF_50['Return_Ar'].plot()"
   ]
  },
  {
   "cell_type": "code",
   "execution_count": 314,
   "id": "43dd3941",
   "metadata": {},
   "outputs": [
    {
     "data": {
      "text/plain": [
       "<AxesSubplot:xlabel='Date'>"
      ]
     },
     "execution_count": 314,
     "metadata": {},
     "output_type": "execute_result"
    },
    {
     "data": {
      "image/png": "[encoded data removed]",
      "text/plain": [
       "<Figure size 432x288 with 1 Axes>"
      ]
     },
     "metadata": {
      "needs_background": "light"
     },
     "output_type": "display_data"
    }
   ],
   "source": [
    "ETF_50['Return_Gm'].plot()"
   ]
  },
  {
   "cell_type": "code",
   "execution_count": 150,
   "id": "44bfe008",
   "metadata": {},
   "outputs": [
    {
     "data": {
      "text/plain": [
       "<AxesSubplot:xlabel='Date'>"
      ]
     },
     "execution_count": 150,
     "metadata": {},
     "output_type": "execute_result"
    },
    {
     "data": {
      "image/png": "[encoded data removed]",
      "text/plain": [
       "<Figure size 432x288 with 1 Axes>"
      ]
     },
     "metadata": {
      "needs_background": "light"
     },
     "output_type": "display_data"
    }
   ],
   "source": [
    "#价格行情折线图\n",
    "ETF_50[['50ETF_Price']].plot()"
   ]
  },
  {
   "cell_type": "code",
   "execution_count": 315,
   "id": "ad5fec90",
   "metadata": {},
   "outputs": [
    {
     "data": {
      "text/plain": [
       "<AxesSubplot:>"
      ]
     },
     "execution_count": 315,
     "metadata": {},
     "output_type": "execute_result"
    },
    {
     "data": {
      "image/png": "[encoded data removed]",
      "text/plain": [
       "<Figure size 432x288 with 1 Axes>"
      ]
     },
     "metadata": {
      "needs_background": "light"
     },
     "output_type": "display_data"
    }
   ],
   "source": [
    "#50ETF每日算术收益率直方图\n",
    "ETF_50['Return_Ar'].hist(bins=20)"
   ]
  },
  {
   "cell_type": "code",
   "execution_count": 316,
   "id": "5e110e5c",
   "metadata": {},
   "outputs": [
    {
     "data": {
      "text/plain": [
       "<AxesSubplot:>"
      ]
     },
     "execution_count": 316,
     "metadata": {},
     "output_type": "execute_result"
    },
    {
     "data": {
      "image/png": "[encoded data removed]",
      "text/plain": [
       "<Figure size 432x288 with 1 Axes>"
      ]
     },
     "metadata": {
      "needs_background": "light"
     },
     "output_type": "display_data"
    }
   ],
   "source": [
    "#50ETF每日几何收益率直方图\n",
    "ETF_50['Return_Gm'].hist(bins=20)"
   ]
  },
  {
   "cell_type": "code",
   "execution_count": 320,
   "id": "9bbc8dd0",
   "metadata": {},
   "outputs": [
    {
     "name": "stderr",
     "output_type": "stream",
     "text": [
      "/Users/tuyuan/opt/anaconda3/lib/python3.8/site-packages/seaborn/distributions.py:2619: FutureWarning: `distplot` is a deprecated function and will be removed in a future version. Please adapt your code to use either `displot` (a figure-level function with similar flexibility) or `histplot` (an axes-level function for histograms).\n",
      "  warnings.warn(msg, FutureWarning)\n"
     ]
    },
    {
     "data": {
      "text/plain": [
       "<AxesSubplot:xlabel='Return_Ar', ylabel='Density'>"
      ]
     },
     "execution_count": 320,
     "metadata": {},
     "output_type": "execute_result"
    },
    {
     "data": {
      "image/png": "[encoded data removed]",
      "text/plain": [
       "<Figure size 288x288 with 1 Axes>"
      ]
     },
     "metadata": {
      "needs_background": "light"
     },
     "output_type": "display_data"
    }
   ],
   "source": [
    "#50ETF每日收益率分布拟合\n",
    "plt.figure(figsize =(4,4))\n",
    "sns.distplot(ETF_50['Return_Ar'],bins=100,color='r',label='Return_Ar')"
   ]
  },
  {
   "cell_type": "code",
   "execution_count": 321,
   "id": "659b4a69",
   "metadata": {},
   "outputs": [
    {
     "name": "stderr",
     "output_type": "stream",
     "text": [
      "/Users/tuyuan/opt/anaconda3/lib/python3.8/site-packages/seaborn/distributions.py:2619: FutureWarning: `distplot` is a deprecated function and will be removed in a future version. Please adapt your code to use either `displot` (a figure-level function with similar flexibility) or `histplot` (an axes-level function for histograms).\n",
      "  warnings.warn(msg, FutureWarning)\n"
     ]
    },
    {
     "data": {
      "text/plain": [
       "<matplotlib.legend.Legend at 0x7fdab6eea3a0>"
      ]
     },
     "execution_count": 321,
     "metadata": {},
     "output_type": "execute_result"
    },
    {
     "data": {
      "image/png": "[encoded data removed]",
      "text/plain": [
       "<Figure size 288x288 with 1 Axes>"
      ]
     },
     "metadata": {
      "needs_background": "light"
     },
     "output_type": "display_data"
    }
   ],
   "source": [
    "#50ETF每日收益率分布拟合\n",
    "plt.figure(figsize =(4,4))\n",
    "sns.distplot(ETF_50['Return_Gm'],bins=100,color='r',label='Return_Gm')\n",
    "plt.legend()"
   ]
  },
  {
   "cell_type": "code",
   "execution_count": 322,
   "id": "167ea462",
   "metadata": {},
   "outputs": [
    {
     "data": {
      "text/plain": [
       "(-0.0198, 0.000788]    2164\n",
       "(0.000788, 0.0214]     1358\n",
       "(0.0214, 0.042]         285\n",
       "(-0.0404, -0.0198]      262\n",
       "(-0.061, -0.0404]        60\n",
       "(0.042, 0.0625]          53\n",
       "(-0.0815, -0.061]        16\n",
       "(0.0625, 0.0831]          8\n",
       "(0.0831, 0.104]           8\n",
       "(-0.102, -0.0815]         5\n",
       "Name: Return_Ar, dtype: int64"
      ]
     },
     "execution_count": 322,
     "metadata": {},
     "output_type": "execute_result"
    }
   ],
   "source": [
    "#按样本数量分成N等份\n",
    "ETF_50_cut = pd.cut(ETF_50['Return_Ar'],10)\n",
    "ETF_50_cut.value_counts()"
   ]
  },
  {
   "cell_type": "code",
   "execution_count": 323,
   "id": "e68f4993",
   "metadata": {},
   "outputs": [
    {
     "data": {
      "text/plain": [
       "(-0.00453, 0.0161]     2272\n",
       "(-0.0252, -0.00453]    1185\n",
       "(0.0161, 0.0368]        437\n",
       "(-0.0458, -0.0252]      166\n",
       "(0.0368, 0.0574]         80\n",
       "(-0.0664, -0.0458]       41\n",
       "(-0.0871, -0.0664]       14\n",
       "(0.0574, 0.078]          11\n",
       "(0.078, 0.0987]           8\n",
       "(-0.108, -0.0871]         5\n",
       "Name: Return_Gm, dtype: int64"
      ]
     },
     "execution_count": 323,
     "metadata": {},
     "output_type": "execute_result"
    }
   ],
   "source": [
    "ETF_50_cut = pd.cut(ETF_50['Return_Gm'],10)\n",
    "ETF_50_cut.value_counts()"
   ]
  },
  {
   "cell_type": "code",
   "execution_count": 326,
   "id": "f7f76beb",
   "metadata": {},
   "outputs": [
    {
     "data": {
      "text/plain": [
       "Date\n",
       "2005-03-23   -0.080043\n",
       "2005-03-24   -0.080043\n",
       "2005-03-25   -0.095310\n",
       "2005-03-28   -0.080043\n",
       "2005-03-29   -0.080043\n",
       "                ...   \n",
       "2022-06-24    0.087622\n",
       "2022-06-27    0.097299\n",
       "2022-06-28    0.096627\n",
       "2022-06-29    0.079215\n",
       "2022-06-30    0.099227\n",
       "Name: Return_Monthly, Length: 4200, dtype: float64"
      ]
     },
     "execution_count": 326,
     "metadata": {},
     "output_type": "execute_result"
    }
   ],
   "source": [
    "# dropna未能删除缺失值，待求解\n",
    "#ETF_50['Return_Monthly'] = ETF_50['Return_Monthly'].dropna()"
   ]
  },
  {
   "cell_type": "code",
   "execution_count": 211,
   "id": "4a902909",
   "metadata": {},
   "outputs": [],
   "source": [
    "#滚动计算2个月收益率，假设每个月20个交易日\n",
    "ETF_50['Return_TwoMonthly'] = ETF_50['Return_Gm'].rolling(window=40).sum()"
   ]
  },
  {
   "cell_type": "code",
   "execution_count": 210,
   "id": "172598e7",
   "metadata": {},
   "outputs": [],
   "source": [
    "#滚动计算季度收益率，假设每个月20个交易日\n",
    "ETF_50['Return_Quarterly'] = ETF_50['Return_Gm'].rolling(window=60).sum()"
   ]
  },
  {
   "cell_type": "code",
   "execution_count": 209,
   "id": "4a9f1166",
   "metadata": {},
   "outputs": [],
   "source": [
    "#滚动计算年化收益率，假设年250交易日\n",
    "ETF_50['Return_Annually'] = ETF_50['Return_Gm'].rolling(window=250).sum()"
   ]
  },
  {
   "cell_type": "code",
   "execution_count": 331,
   "id": "f3e1663c",
   "metadata": {},
   "outputs": [
    {
     "name": "stdout",
     "output_type": "stream",
     "text": [
      "ETF_50_mean_Quarterly: 0.02221032198766655\n",
      "ETF_50_std_Quarterly: 0.15346477650146462\n",
      "ETF_50_var_Quarterly: 0.023551437626644488\n",
      "ETF_50_skew_Quarterly: 0.2315597244550018\n",
      "ETF_50_kurt_Quarterly: 1.199022043010609\n"
     ]
    }
   ],
   "source": [
    "#季度收益率各阶矩：均值，标准差，方差，偏度，峰度\n",
    "ETF_50_mean_Quarterly = ETF_50['Return_Quarterly'].mean()\n",
    "ETF_50_std_Quarterly  = ETF_50['Return_Quarterly'].std()\n",
    "ETF_50_var_Quarterly  = ETF_50['Return_Quarterly'].var()\n",
    "ETF_50_skew_Quarterly  = ETF_50['Return_Quarterly'].skew()\n",
    "ETF_50_kurt_Quarterly = ETF_50['Return_Quarterly'].kurt()\n",
    "\n",
    "print(\"ETF_50_mean_Quarterly:\",ETF_50_mean_Quarterly)\n",
    "print(\"ETF_50_std_Quarterly:\",ETF_50_std_Quarterly)\n",
    "print(\"ETF_50_var_Quarterly:\",ETF_50_var_Quarterly)\n",
    "print(\"ETF_50_skew_Quarterly:\",ETF_50_skew_Quarterly)\n",
    "print(\"ETF_50_kurt_Quarterly:\",ETF_50_kurt_Quarterly)"
   ]
  },
  {
   "cell_type": "code",
   "execution_count": 212,
   "id": "c81b9806",
   "metadata": {},
   "outputs": [
    {
     "name": "stdout",
     "output_type": "stream",
     "text": [
      "ETF_50_mean_Annually: 0.10315261604710371\n",
      "ETF_50_std_Annually: 0.3938531789244054\n",
      "ETF_50_var_Annually: 0.1551203265488597\n",
      "ETF_50_skew_Annually: 0.514333183181357\n",
      "ETF_50_kurt_Annually: 1.9995916180657738\n"
     ]
    }
   ],
   "source": [
    "#年度几何收益率各阶矩：均值，标准差，方差，偏度，峰度\n",
    "ETF_50_mean_Annually = ETF_50['Return_Annually'].mean()\n",
    "ETF_50_std_Annually  = ETF_50['Return_Annually'].std()\n",
    "ETF_50_var_Annually = ETF_50['Return_Annually'].var()\n",
    "ETF_50_skew_Annually  = ETF_50['Return_Annually'].skew()\n",
    "ETF_50_kurt_Annually = ETF_50['Return_Annually'].kurt()\n",
    "\n",
    "print(\"ETF_50_mean_Annually:\",ETF_50_mean_Annually)\n",
    "print(\"ETF_50_std_Annually:\",ETF_50_std_Annually)\n",
    "print(\"ETF_50_var_Annually:\",ETF_50_var_Annually)\n",
    "print(\"ETF_50_skew_Annually:\",ETF_50_skew_Annually)\n",
    "print(\"ETF_50_kurt_Annually:\",ETF_50_kurt_Annually)"
   ]
  },
  {
   "cell_type": "code",
   "execution_count": null,
   "id": "8756eea1",
   "metadata": {},
   "outputs": [],
   "source": []
  },
  {
   "cell_type": "code",
   "execution_count": null,
   "id": "ec6510b0",
   "metadata": {},
   "outputs": [],
   "source": []
  },
  {
   "cell_type": "code",
   "execution_count": null,
   "id": "29b78a0e",
   "metadata": {},
   "outputs": [],
   "source": []
  },
  {
   "cell_type": "code",
   "execution_count": 333,
   "id": "ee39775e",
   "metadata": {},
   "outputs": [
    {
     "data": {
      "text/plain": [
       "<AxesSubplot:>"
      ]
     },
     "execution_count": 333,
     "metadata": {},
     "output_type": "execute_result"
    },
    {
     "data": {
      "image/png": "[encoded data removed]",
      "text/plain": [
       "<Figure size 432x288 with 1 Axes>"
      ]
     },
     "metadata": {
      "needs_background": "light"
     },
     "output_type": "display_data"
    }
   ],
   "source": [
    "ETF_50['Return_Monthly'].hist(bins=20)"
   ]
  },
  {
   "cell_type": "code",
   "execution_count": 334,
   "id": "c7b04bb8",
   "metadata": {},
   "outputs": [
    {
     "data": {
      "text/plain": [
       "<AxesSubplot:>"
      ]
     },
     "execution_count": 334,
     "metadata": {},
     "output_type": "execute_result"
    },
    {
     "data": {
      "image/png": "[encoded data removed]",
      "text/plain": [
       "<Figure size 432x288 with 1 Axes>"
      ]
     },
     "metadata": {
      "needs_background": "light"
     },
     "output_type": "display_data"
    }
   ],
   "source": [
    "ETF_50['Return_TwoMonthly'].hist(bins=20)"
   ]
  },
  {
   "cell_type": "code",
   "execution_count": 335,
   "id": "afae9dd2",
   "metadata": {},
   "outputs": [
    {
     "data": {
      "text/plain": [
       "<AxesSubplot:>"
      ]
     },
     "execution_count": 335,
     "metadata": {},
     "output_type": "execute_result"
    },
    {
     "data": {
      "image/png": "[encoded data removed]",
      "text/plain": [
       "<Figure size 432x288 with 1 Axes>"
      ]
     },
     "metadata": {
      "needs_background": "light"
     },
     "output_type": "display_data"
    }
   ],
   "source": [
    "ETF_50['Return_Quarterly'].dropna()\n",
    "ETF_50['Return_Quarterly'].hist(bins=20)"
   ]
  },
  {
   "cell_type": "code",
   "execution_count": 336,
   "id": "550b82ff",
   "metadata": {},
   "outputs": [
    {
     "data": {
      "text/plain": [
       "<AxesSubplot:>"
      ]
     },
     "execution_count": 336,
     "metadata": {},
     "output_type": "execute_result"
    },
    {
     "data": {
      "image/png": "[encoded data removed]",
      "text/plain": [
       "<Figure size 432x288 with 1 Axes>"
      ]
     },
     "metadata": {
      "needs_background": "light"
     },
     "output_type": "display_data"
    }
   ],
   "source": [
    "ETF_50['Return_Annually'].dropna()\n",
    "ETF_50['Return_Annually'].hist(bins=20)"
   ]
  },
  {
   "cell_type": "code",
   "execution_count": 337,
   "id": "f83237aa",
   "metadata": {},
   "outputs": [
    {
     "data": {
      "text/plain": [
       "0.00   -0.359555\n",
       "0.05   -0.120377\n",
       "0.10   -0.083142\n",
       "0.20   -0.048211\n",
       "0.30   -0.025585\n",
       "0.40   -0.008584\n",
       "0.50    0.007340\n",
       "0.60    0.022900\n",
       "0.70    0.039531\n",
       "0.80    0.061097\n",
       "0.90    0.098440\n",
       "0.95    0.143152\n",
       "1.00    0.339306\n",
       "Name: Return_Monthly, dtype: float64"
      ]
     },
     "execution_count": 337,
     "metadata": {},
     "output_type": "execute_result"
    }
   ],
   "source": [
    "#分位数：\n",
    "ETF_50['Return_Monthly'].quantile([0,0.05,0.1,0.2,0.3,0.4,0.5,0.6,0.7,0.8,0.9,0.95,1])"
   ]
  },
  {
   "cell_type": "code",
   "execution_count": 338,
   "id": "64e130a5",
   "metadata": {},
   "outputs": [
    {
     "data": {
      "text/plain": [
       "((array([-3.59167721, -3.35365637, -3.22233171, ...,  3.22233171,\n",
       "          3.35365637,  3.59167721]),\n",
       "  array([-0.35955541, -0.32874356, -0.31077779, ...,         nan,\n",
       "                 nan,         nan])),\n",
       " (nan, nan, nan))"
      ]
     },
     "execution_count": 338,
     "metadata": {},
     "output_type": "execute_result"
    },
    {
     "data": {
      "image/png": "[encoded data removed]",
      "text/plain": [
       "<Figure size 288x288 with 1 Axes>"
      ]
     },
     "metadata": {
      "needs_background": "light"
     },
     "output_type": "display_data"
    }
   ],
   "source": [
    "#50ETF月度收益率QQ-Plot图\n",
    "fig,ax = plt.subplots(figsize=(4,4))\n",
    "stats.probplot(ETF_50['Return_Monthly'],plot = ax)"
   ]
  },
  {
   "cell_type": "code",
   "execution_count": 339,
   "id": "8f034a93",
   "metadata": {},
   "outputs": [
    {
     "data": {
      "text/plain": [
       "((array([-3.59167721, -3.35365637, -3.22233171, ...,  3.22233171,\n",
       "          3.35365637,  3.59167721]),\n",
       "  array([-0.41327765, -0.41185491, -0.40838482, ...,         nan,\n",
       "                 nan,         nan])),\n",
       " (nan, nan, nan))"
      ]
     },
     "execution_count": 339,
     "metadata": {},
     "output_type": "execute_result"
    },
    {
     "data": {
      "image/png": "[encoded data removed]",
      "text/plain": [
       "<Figure size 288x288 with 1 Axes>"
      ]
     },
     "metadata": {
      "needs_background": "light"
     },
     "output_type": "display_data"
    }
   ],
   "source": [
    "#50ETF双月度收益率QQ-Plot图\n",
    "fig,ax = plt.subplots(figsize=(4,4))\n",
    "stats.probplot(ETF_50['Return_TwoMonthly'],plot = ax)"
   ]
  },
  {
   "cell_type": "code",
   "execution_count": 340,
   "id": "a71b4657",
   "metadata": {},
   "outputs": [
    {
     "data": {
      "text/plain": [
       "((array([-3.59167721, -3.35365637, -3.22233171, ...,  3.22233171,\n",
       "          3.35365637,  3.59167721]),\n",
       "  array([-0.56509525, -0.52951776, -0.52716204, ...,         nan,\n",
       "                 nan,         nan])),\n",
       " (nan, nan, nan))"
      ]
     },
     "execution_count": 340,
     "metadata": {},
     "output_type": "execute_result"
    },
    {
     "data": {
      "image/png": "[encoded data removed]",
      "text/plain": [
       "<Figure size 288x288 with 1 Axes>"
      ]
     },
     "metadata": {
      "needs_background": "light"
     },
     "output_type": "display_data"
    }
   ],
   "source": [
    "#50ETF季度收益率QQ-Plot图\n",
    "fig,ax = plt.subplots(figsize=(4,4))\n",
    "stats.probplot(ETF_50['Return_Quarterly'],plot = ax)"
   ]
  },
  {
   "cell_type": "code",
   "execution_count": 341,
   "id": "d32248e3",
   "metadata": {},
   "outputs": [
    {
     "data": {
      "text/plain": [
       "((array([-3.59167721, -3.35365637, -3.22233171, ...,  3.22233171,\n",
       "          3.35365637,  3.59167721]),\n",
       "  array([-1.19333955, -1.17071558, -1.17007125, ...,         nan,\n",
       "                 nan,         nan])),\n",
       " (nan, nan, nan))"
      ]
     },
     "execution_count": 341,
     "metadata": {},
     "output_type": "execute_result"
    },
    {
     "data": {
      "image/png": "[encoded data removed]",
      "text/plain": [
       "<Figure size 288x288 with 1 Axes>"
      ]
     },
     "metadata": {
      "needs_background": "light"
     },
     "output_type": "display_data"
    }
   ],
   "source": [
    "#50ETF年度收益率QQ-Plot图\n",
    "fig,ax = plt.subplots(figsize=(4,4))\n",
    "stats.probplot(ETF_50['Return_Annually'],dist = \"norm\" ,plot = ax)"
   ]
  },
  {
   "cell_type": "code",
   "execution_count": null,
   "id": "6ccfa966",
   "metadata": {},
   "outputs": [],
   "source": []
  },
  {
   "cell_type": "code",
   "execution_count": null,
   "id": "153b9783",
   "metadata": {},
   "outputs": [],
   "source": []
  }
 ],
 "metadata": {
  "kernelspec": {
   "display_name": "Python 3 (ipykernel)",
   "language": "python",
   "name": "python3"
  },
  "language_info": {
   "codemirror_mode": {
    "name": "ipython",
    "version": 3
   },
   "file_extension": ".py",
   "mimetype": "text/x-python",
   "name": "python",
   "nbconvert_exporter": "python",
   "pygments_lexer": "ipython3",
   "version": "3.8.13"
  }
 },
 "nbformat": 4,
 "nbformat_minor": 5
}
